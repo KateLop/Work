{
 "cells": [
  {
   "cell_type": "markdown",
   "id": "f9321798",
   "metadata": {},
   "source": [
    "# Предобработка данных для РФА"
   ]
  },
  {
   "cell_type": "markdown",
   "id": "f39c5ae9",
   "metadata": {},
   "source": [
    "**1. Загрузка и чтение файла**"
   ]
  },
  {
   "cell_type": "code",
   "execution_count": 1,
   "id": "4dab64e3",
   "metadata": {},
   "outputs": [],
   "source": [
    "#загрузка библиотек\n",
    "\n",
    "import pandas as pd\n",
    "%matplotlib inline\n",
    "import matplotlib.pyplot as plt\n",
    "import seaborn as sns\n",
    "import numpy as np #для сложных математических функций\n",
    "from scipy import stats as st\n",
    "import math as mth\n",
    "from plotly.subplots import make_subplots\n",
    "\n",
    "#для загрузки из внешних ссылок\n",
    "from urllib.parse import urlencode\n",
    "import requests\n",
    "\n",
    "from sklearn.preprocessing import StandardScaler, MinMaxScaler\n",
    "\n",
    "import warnings\n",
    "warnings.simplefilter('ignore')"
   ]
  },
  {
   "cell_type": "code",
   "execution_count": 2,
   "id": "dd28c041",
   "metadata": {},
   "outputs": [],
   "source": [
    "# напишем функцию для считывания файла\n",
    "# не забудьте при указании ссылки (переменная url) заключить её в одинарные кавычки\n",
    "def load(url):\n",
    "    base_url = 'https://cloud-api.yandex.net/v1/disk/public/resources/download?'\n",
    "    public_key = url\n",
    "    final_url = base_url + urlencode(dict(public_key=public_key))\n",
    "    response = requests.get(final_url)\n",
    "    download_url = response.json()['href']\n",
    "    result = pd.read_csv(download_url)\n",
    "    return result \n",
    "\n",
    "#другой вариант конструкции для универсальной загрузки датафрейма\n",
    "\n",
    "#path = 'D://Yandex_Practicum//11_maplotlib//'\n",
    "#data = pd.read_csv(path + 'Moscow_places.csv') "
   ]
  },
  {
   "cell_type": "code",
   "execution_count": 30,
   "id": "38cc0d43",
   "metadata": {},
   "outputs": [],
   "source": [
    "#прочитаем данные из файла\n",
    "try:\n",
    "    data = pd.read_excel('D:\\\\WORK\\\\test_data.xlsx', index_col=0)\n",
    "except:\n",
    "    data = load('https://disk.yandex.ru/d/ZVC7GUYYckKnGQ')"
   ]
  },
  {
   "cell_type": "code",
   "execution_count": 31,
   "id": "75955269",
   "metadata": {},
   "outputs": [
    {
     "data": {
      "text/html": [
       "<div>\n",
       "<style scoped>\n",
       "    .dataframe tbody tr th:only-of-type {\n",
       "        vertical-align: middle;\n",
       "    }\n",
       "\n",
       "    .dataframe tbody tr th {\n",
       "        vertical-align: top;\n",
       "    }\n",
       "\n",
       "    .dataframe thead th {\n",
       "        text-align: right;\n",
       "    }\n",
       "</style>\n",
       "<table border=\"1\" class=\"dataframe\">\n",
       "  <thead>\n",
       "    <tr style=\"text-align: right;\">\n",
       "      <th></th>\n",
       "      <th>SiO2</th>\n",
       "      <th>TiO2</th>\n",
       "      <th>Al2O3</th>\n",
       "      <th>Fe2O3</th>\n",
       "      <th>MnO</th>\n",
       "      <th>MgO</th>\n",
       "      <th>CaO</th>\n",
       "      <th>Na2O</th>\n",
       "      <th>K2O</th>\n",
       "      <th>P2O5</th>\n",
       "      <th>F</th>\n",
       "      <th>S</th>\n",
       "    </tr>\n",
       "  </thead>\n",
       "  <tbody>\n",
       "    <tr>\n",
       "      <th>1</th>\n",
       "      <td>60.0</td>\n",
       "      <td>1.00</td>\n",
       "      <td>16.9</td>\n",
       "      <td>6.34</td>\n",
       "      <td>0.140000</td>\n",
       "      <td>2.0800</td>\n",
       "      <td>4.830000</td>\n",
       "      <td>4.640000</td>\n",
       "      <td>1.89000</td>\n",
       "      <td>0.5300</td>\n",
       "      <td>100.000000</td>\n",
       "      <td>50.000000</td>\n",
       "    </tr>\n",
       "    <tr>\n",
       "      <th>2</th>\n",
       "      <td>61.0</td>\n",
       "      <td>0.98</td>\n",
       "      <td>16.5</td>\n",
       "      <td>6.32</td>\n",
       "      <td>0.142523</td>\n",
       "      <td>2.0384</td>\n",
       "      <td>4.714286</td>\n",
       "      <td>4.626647</td>\n",
       "      <td>1.92150</td>\n",
       "      <td>0.5194</td>\n",
       "      <td>97.633136</td>\n",
       "      <td>49.842271</td>\n",
       "    </tr>\n",
       "    <tr>\n",
       "      <th>3</th>\n",
       "      <td>60.5</td>\n",
       "      <td>0.96</td>\n",
       "      <td>16.2</td>\n",
       "      <td>6.30</td>\n",
       "      <td>0.141355</td>\n",
       "      <td>NaN</td>\n",
       "      <td>4.628571</td>\n",
       "      <td>4.612006</td>\n",
       "      <td>1.90575</td>\n",
       "      <td>0.5088</td>\n",
       "      <td>95.857988</td>\n",
       "      <td>49.684543</td>\n",
       "    </tr>\n",
       "    <tr>\n",
       "      <th>4</th>\n",
       "      <td>40.0</td>\n",
       "      <td>0.92</td>\n",
       "      <td>17.0</td>\n",
       "      <td>6.40</td>\n",
       "      <td>0.093458</td>\n",
       "      <td>1.9136</td>\n",
       "      <td>4.857143</td>\n",
       "      <td>4.685212</td>\n",
       "      <td>1.26000</td>\n",
       "      <td>0.4876</td>\n",
       "      <td>100.591716</td>\n",
       "      <td>50.473186</td>\n",
       "    </tr>\n",
       "    <tr>\n",
       "      <th>5</th>\n",
       "      <td>82.0</td>\n",
       "      <td>1.05</td>\n",
       "      <td>17.3</td>\n",
       "      <td>6.42</td>\n",
       "      <td>0.191589</td>\n",
       "      <td>2.1840</td>\n",
       "      <td>4.942857</td>\n",
       "      <td>4.699854</td>\n",
       "      <td>2.58300</td>\n",
       "      <td>0.5565</td>\n",
       "      <td>102.366864</td>\n",
       "      <td>50.630915</td>\n",
       "    </tr>\n",
       "  </tbody>\n",
       "</table>\n",
       "</div>"
      ],
      "text/plain": [
       "   SiO2  TiO2  Al2O3  Fe2O3       MnO     MgO       CaO      Na2O      K2O  \\\n",
       "1  60.0  1.00   16.9   6.34  0.140000  2.0800  4.830000  4.640000  1.89000   \n",
       "2  61.0  0.98   16.5   6.32  0.142523  2.0384  4.714286  4.626647  1.92150   \n",
       "3  60.5  0.96   16.2   6.30  0.141355     NaN  4.628571  4.612006  1.90575   \n",
       "4  40.0  0.92   17.0   6.40  0.093458  1.9136  4.857143  4.685212  1.26000   \n",
       "5  82.0  1.05   17.3   6.42  0.191589  2.1840  4.942857  4.699854  2.58300   \n",
       "\n",
       "     P2O5           F          S  \n",
       "1  0.5300  100.000000  50.000000  \n",
       "2  0.5194   97.633136  49.842271  \n",
       "3  0.5088   95.857988  49.684543  \n",
       "4  0.4876  100.591716  50.473186  \n",
       "5  0.5565  102.366864  50.630915  "
      ]
     },
     "metadata": {},
     "output_type": "display_data"
    }
   ],
   "source": [
    "#познакомимся с данными\n",
    "display(data.head())"
   ]
  },
  {
   "cell_type": "code",
   "execution_count": 32,
   "id": "b1596f88",
   "metadata": {},
   "outputs": [
    {
     "name": "stdout",
     "output_type": "stream",
     "text": [
      "<class 'pandas.core.frame.DataFrame'>\n",
      "Int64Index: 10 entries, 1 to 10\n",
      "Data columns (total 12 columns):\n",
      " #   Column  Non-Null Count  Dtype  \n",
      "---  ------  --------------  -----  \n",
      " 0   SiO2    10 non-null     float64\n",
      " 1   TiO2    10 non-null     float64\n",
      " 2   Al2O3   9 non-null      float64\n",
      " 3   Fe2O3   10 non-null     float64\n",
      " 4   MnO     10 non-null     float64\n",
      " 5   MgO     9 non-null      float64\n",
      " 6   CaO     10 non-null     float64\n",
      " 7   Na2O    10 non-null     float64\n",
      " 8   K2O     10 non-null     float64\n",
      " 9   P2O5    10 non-null     float64\n",
      " 10  F       10 non-null     float64\n",
      " 11  S       10 non-null     float64\n",
      "dtypes: float64(12)\n",
      "memory usage: 1.0 KB\n"
     ]
    },
    {
     "data": {
      "text/plain": [
       "None"
      ]
     },
     "metadata": {},
     "output_type": "display_data"
    },
    {
     "data": {
      "text/plain": [
       "SiO2     0\n",
       "TiO2     0\n",
       "Al2O3    1\n",
       "Fe2O3    0\n",
       "MnO      0\n",
       "MgO      1\n",
       "CaO      0\n",
       "Na2O     0\n",
       "K2O      0\n",
       "P2O5     0\n",
       "F        0\n",
       "S        0\n",
       "dtype: int64"
      ]
     },
     "metadata": {},
     "output_type": "display_data"
    }
   ],
   "source": [
    "#размер таблицы, типы данных, пропуски \n",
    "display(data.info())\n",
    "display(data.isna().sum())"
   ]
  },
  {
   "cell_type": "code",
   "execution_count": 34,
   "id": "af283388",
   "metadata": {},
   "outputs": [
    {
     "name": "stdout",
     "output_type": "stream",
     "text": [
      "Количество пропусков в столбце Al2O3 : 1 что составляет 10.0 % от всех данных по этому столбцу\n",
      "Количество пропусков в столбце MgO : 1 что составляет 10.0 % от всех данных по этому столбцу\n"
     ]
    }
   ],
   "source": [
    "#доля пропусков в тех столбцах, где они есть\n",
    "for col in data.columns:\n",
    "    if data[col].isna().sum() > 0:\n",
    "        print(\n",
    "            'Количество пропусков в столбце', col, ':', data[col].isna().sum(),\n",
    "            'что составляет', (data[col].isna().sum() / data.shape[0])*100,'% от всех данных по этому столбцу')"
   ]
  },
  {
   "cell_type": "markdown",
   "id": "8ac8038f",
   "metadata": {},
   "source": [
    "**Выводы о пригодности данных. Изменение типов, если нужно.** "
   ]
  },
  {
   "cell_type": "markdown",
   "id": "e4c975b6",
   "metadata": {},
   "source": [
    "**2. Статистический анализ данных**"
   ]
  },
  {
   "cell_type": "code",
   "execution_count": null,
   "id": "edae4705",
   "metadata": {},
   "outputs": [],
   "source": [
    "\n",
    "\n",
    "#построим общую гистограму для всех столбцов таблицы:\n",
    "data.hist(figsize=(15,10));\n",
    "\n"
   ]
  },
  {
   "cell_type": "code",
   "execution_count": null,
   "id": "033700b7",
   "metadata": {},
   "outputs": [],
   "source": [
    "events['event_dt'].hist(grid = True, bins = 100, figsize = (20,8))\n",
    "plt.title('Гистограмма распределения совершения действий пользователями')\n",
    "plt.xlabel('Дата совершения действий')\n",
    "plt.ylabel('Кол-во совершённых действий');"
   ]
  },
  {
   "cell_type": "code",
   "execution_count": null,
   "id": "c3c3c7dd",
   "metadata": {},
   "outputs": [],
   "source": [
    "#посмотрим на распределение количества товаров:\n",
    "data['quantity'].plot(x = 'quantity', kind = 'hist', grid = True, title = 'Гистограмма распределения значений количества товаров');\n"
   ]
  },
  {
   "cell_type": "code",
   "execution_count": null,
   "id": "22c57098",
   "metadata": {},
   "outputs": [],
   "source": [
    "#распределение величин\n",
    "for feature in means:\n",
    "    sns.distplot(data[feature], bins=50)\n",
    "    plt.show(); "
   ]
  },
  {
   "cell_type": "code",
   "execution_count": null,
   "id": "9ef321a3",
   "metadata": {},
   "outputs": [],
   "source": [
    "plt.figure(figsize=(10,4))\n",
    "sns.set_style('whitegrid')\n",
    "ax = sns.boxplot(x = 'R_mean', y = 'rock_type', data = data)\n",
    "plt.title('Боксплот среднего значения R в зависимости от типа породы');\n",
    "\n",
    "palette='Paired'"
   ]
  },
  {
   "cell_type": "code",
   "execution_count": null,
   "id": "6eee4d25",
   "metadata": {},
   "outputs": [],
   "source": [
    "\n",
    "\n",
    "#построим диаграмму размаха\n",
    "data.boxplot(column = 'sales_total', by = 'platform', figsize=(10,10))\n",
    "plt.xlabel('Платформа')\n",
    "plt.ylabel('Количество проданных копий, млн.шт')\n",
    "plt.title('Диаграммы размаха по продажам на актуальных платформах')\n",
    "plt.ylim(0, 2)\n",
    "plt.show()\n",
    "\n"
   ]
  },
  {
   "cell_type": "code",
   "execution_count": null,
   "id": "020e4e2b",
   "metadata": {},
   "outputs": [],
   "source": [
    "#строим корреляционную матрицу\n",
    "corr_m = data.corr() \n",
    "\n",
    "#нарисуем heatmap\n",
    "plt.figure(figsize = (10,10))\n",
    "sns.heatmap(corr_m, square = True, annot = True)\n",
    "plt.show()"
   ]
  },
  {
   "cell_type": "code",
   "execution_count": null,
   "id": "228d3769",
   "metadata": {},
   "outputs": [],
   "source": [
    "\n",
    "\n",
    "#построим диаграмму рассеяния\n",
    "pd.plotting.scatter_matrix(data_feedback, figsize = (9,9));\n",
    "\n"
   ]
  },
  {
   "cell_type": "code",
   "execution_count": null,
   "id": "914ec12a",
   "metadata": {},
   "outputs": [],
   "source": [
    "#посчитаем корреляцияю:\n",
    "corr_crit_total = data_corr['critic_score'].corr(data_corr['sales_total'])\n",
    "corr_user_total = data_corr['user_score'].corr(data_corr['sales_total'])\n",
    "print('Корреляция между общими продажами и оценкой критиков равна ', corr_crit_total.round(2))\n",
    "print('Корреляция между общими продажами и оценкой пользователей равна ', corr_user_total.round(2))"
   ]
  },
  {
   "cell_type": "code",
   "execution_count": null,
   "id": "4c4961aa",
   "metadata": {},
   "outputs": [],
   "source": []
  },
  {
   "cell_type": "code",
   "execution_count": null,
   "id": "5231b8c8",
   "metadata": {},
   "outputs": [],
   "source": []
  },
  {
   "cell_type": "code",
   "execution_count": null,
   "id": "832ee219",
   "metadata": {},
   "outputs": [],
   "source": []
  },
  {
   "cell_type": "code",
   "execution_count": null,
   "id": "7ce3a9d4",
   "metadata": {},
   "outputs": [],
   "source": []
  },
  {
   "cell_type": "code",
   "execution_count": null,
   "id": "c33709e1",
   "metadata": {},
   "outputs": [],
   "source": []
  },
  {
   "cell_type": "code",
   "execution_count": null,
   "id": "97cf1084",
   "metadata": {},
   "outputs": [],
   "source": [
    "#пример масштабирования матрицы данных игрушки до диапазона [0, 1]:\n",
    "\n",
    "X_train = #массив \n",
    "min_max_scaler = preprocessing.MinMaxScaler()\n",
    "X_train_minmax = min_max_scaler.fit_transform(X_train)\n",
    "X_train_minmax\n",
    "#выводится масштабированный массив\n",
    "\n",
    "X_test = #массив\n",
    "\n",
    "X_test_minmax = min_max_scaler.transform(X_test)\n",
    "X_test_minmax\n",
    "#выводится масштабированный массив\n",
    "\n",
    "Можно проанализировать атрибуты масштабатора, чтобы узнать точную природу преобразования, полученного на обучающих данных:\n",
    "min_max_scaler.scale_\n",
    "min_max_scaler.min_\n",
    "#выводятся параметры после масштабирования\n"
   ]
  },
  {
   "cell_type": "code",
   "execution_count": null,
   "id": "6a110cdc",
   "metadata": {},
   "outputs": [],
   "source": []
  }
 ],
 "metadata": {
  "kernelspec": {
   "display_name": "Python 3 (ipykernel)",
   "language": "python",
   "name": "python3"
  },
  "language_info": {
   "codemirror_mode": {
    "name": "ipython",
    "version": 3
   },
   "file_extension": ".py",
   "mimetype": "text/x-python",
   "name": "python",
   "nbconvert_exporter": "python",
   "pygments_lexer": "ipython3",
   "version": "3.9.12"
  }
 },
 "nbformat": 4,
 "nbformat_minor": 5
}
